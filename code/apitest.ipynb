{
 "cells": [
  {
   "cell_type": "code",
   "execution_count": 1,
   "id": "3d414d33",
   "metadata": {},
   "outputs": [],
   "source": [
    "import requests"
   ]
  },
  {
   "cell_type": "code",
   "execution_count": 8,
   "id": "6b826c44",
   "metadata": {},
   "outputs": [
    {
     "name": "stdout",
     "output_type": "stream",
     "text": [
      "Request URL: https://api.odcloud.kr/api/gov24/v1/serviceList?page=1&perPage=10&returnType=JSON&serviceKey=%2FP5AhAmvjuBQBRALCoeppdhwG2TdfyZiiQNcc%2BZkkbdec3MKMsgRs3GZUa%2BPuCCtdEsTd7DtbbgmLjCTitOhSA%3D%3D\n",
      "Status: 400\n",
      "Body : {\"code\":-3,\"msg\":\"등록되지 않은 서비스 입니다.\"}\n",
      "\n"
     ]
    },
    {
     "ename": "TypeError",
     "evalue": "exceptions must derive from BaseException",
     "output_type": "error",
     "traceback": [
      "\u001b[0;31m---------------------------------------------------------------------------\u001b[0m",
      "\u001b[0;31mHTTPError\u001b[0m                                 Traceback (most recent call last)",
      "Cell \u001b[0;32mIn[8], line 12\u001b[0m\n\u001b[1;32m     11\u001b[0m     \u001b[38;5;28mprint\u001b[39m(\u001b[38;5;124m\"\u001b[39m\u001b[38;5;124mRequest URL:\u001b[39m\u001b[38;5;124m\"\u001b[39m, res\u001b[38;5;241m.\u001b[39murl)               \u001b[38;5;66;03m# 실제 전송된 쿼리 확인\u001b[39;00m\n\u001b[0;32m---> 12\u001b[0m     res\u001b[38;5;241m.\u001b[39mraise_for_status()\n\u001b[1;32m     13\u001b[0m \u001b[38;5;28;01mexcept\u001b[39;00m requests\u001b[38;5;241m.\u001b[39mHTTPError:\n",
      "File \u001b[0;32m/opt/homebrew/anaconda3/lib/python3.12/site-packages/requests/models.py:1024\u001b[0m, in \u001b[0;36mResponse.raise_for_status\u001b[0;34m(self)\u001b[0m\n\u001b[1;32m   1023\u001b[0m \u001b[38;5;28;01mif\u001b[39;00m http_error_msg:\n\u001b[0;32m-> 1024\u001b[0m     \u001b[38;5;28;01mraise\u001b[39;00m HTTPError(http_error_msg, response\u001b[38;5;241m=\u001b[39m\u001b[38;5;28mself\u001b[39m)\n",
      "\u001b[0;31mHTTPError\u001b[0m: 400 Client Error: Bad Request for url: https://api.odcloud.kr/api/gov24/v1/serviceList?page=1&perPage=10&returnType=JSON&serviceKey=%2FP5AhAmvjuBQBRALCoeppdhwG2TdfyZiiQNcc%2BZkkbdec3MKMsgRs3GZUa%2BPuCCtdEsTd7DtbbgmLjCTitOhSA%3D%3D",
      "\nDuring handling of the above exception, another exception occurred:\n",
      "\u001b[0;31mTypeError\u001b[0m                                 Traceback (most recent call last)",
      "Cell \u001b[0;32mIn[8], line 16\u001b[0m\n\u001b[1;32m     14\u001b[0m     \u001b[38;5;28mprint\u001b[39m(\u001b[38;5;124m\"\u001b[39m\u001b[38;5;124mStatus:\u001b[39m\u001b[38;5;124m\"\u001b[39m, res\u001b[38;5;241m.\u001b[39mstatus_code)\n\u001b[1;32m     15\u001b[0m     \u001b[38;5;28mprint\u001b[39m(\u001b[38;5;124m\"\u001b[39m\u001b[38;5;124mBody :\u001b[39m\u001b[38;5;124m\"\u001b[39m, res\u001b[38;5;241m.\u001b[39mtext[:\u001b[38;5;241m800\u001b[39m])              \u001b[38;5;66;03m# 서버가 준 에러 메시지 확인\u001b[39;00m\n\u001b[0;32m---> 16\u001b[0m     \u001b[38;5;28;01mraise\u001b[39;00m \u001b[38;5;124m\"\u001b[39m\u001b[38;5;124m\"\u001b[39m\n\u001b[1;32m     18\u001b[0m data \u001b[38;5;241m=\u001b[39m res\u001b[38;5;241m.\u001b[39mjson()\n\u001b[1;32m     19\u001b[0m rows \u001b[38;5;241m=\u001b[39m data\u001b[38;5;241m.\u001b[39mget(\u001b[38;5;124m\"\u001b[39m\u001b[38;5;124mdata\u001b[39m\u001b[38;5;124m\"\u001b[39m, data) \u001b[38;5;28;01mif\u001b[39;00m \u001b[38;5;28misinstance\u001b[39m(data, \u001b[38;5;28mdict\u001b[39m) \u001b[38;5;28;01melse\u001b[39;00m data\n",
      "\u001b[0;31mTypeError\u001b[0m: exceptions must derive from BaseException"
     ]
    }
   ],
   "source": [
    "BASE = \"https://api.odcloud.kr/api/gov24/v1/serviceList\"\n",
    "params = {\n",
    "    \"page\": 1,\n",
    "    \"perPage\": 10,            # 최소 10 권장\n",
    "    \"returnType\": \"JSON\", \n",
    "    \"serviceKey\": \"/P5AhAmvjuBQBRALCoeppdhwG2TdfyZiiQNcc+Zkkbdec3MKMsgRs3GZUa+PuCCtdEsTd7DtbbgmLjCTitOhSA==\"\n",
    "}\n",
    "DEC_KEY = \"\t%2FP5AhAmvjuBQBRALCoeppdhwG2TdfyZiiQNcc%2BZkkbdec3MKMsgRs3GZUa%2BPuCCtdEsTd7DtbbgmLjCTitOhSA%3D%3D\"\n",
    "try:\n",
    "    res = requests.get(BASE, params=params, headers={\"Accept\": \"application/json\"}, timeout=20)\n",
    "    print(\"Request URL:\", res.url)               # 실제 전송된 쿼리 확인\n",
    "    res.raise_for_status()\n",
    "except requests.HTTPError:\n",
    "    print(\"Status:\", res.status_code)\n",
    "    print(\"Body :\", res.text[:800])              # 서버가 준 에러 메시지 확인\n",
    "    raise \"\"\n",
    "\n",
    "data = res.json()\n",
    "rows = data.get(\"data\", data) if isinstance(data, dict) else data\n",
    "print(\"총 건수 추정:\", data.get(\"totalCount\", \"알수없음\") if isinstance(data, dict) else \"알수없음\")\n",
    "print(\"샘플 1건 키:\", list(rows[0].keys()) if rows else [])\n",
    "print(\"샘플 1건:\", rows[0] if rows else {})"
   ]
  },
  {
   "cell_type": "code",
   "execution_count": 5,
   "id": "a44d81a3",
   "metadata": {},
   "outputs": [
    {
     "name": "stdout",
     "output_type": "stream",
     "text": [
      "URL: https://api.odcloud.kr/api/gov24/v1/serviceList?page=1&perPage=10&returnType=JSON&serviceKey=%2FP5AhAmvjuBQBRALCoeppdhwG2TdfyZiiQNcc%2BZkkbdec3MKMsgRs3GZUa%2BPuCCtdEsTd7DtbbgmLjCTitOhSA%3D%3D\n",
      "Status: 400\n",
      "Body: {\"code\":-3,\"msg\":\"등록되지 않은 서비스 입니다.\"}\n",
      "\n"
     ]
    },
    {
     "ename": "HTTPError",
     "evalue": "400 Client Error: Bad Request for url: https://api.odcloud.kr/api/gov24/v1/serviceList?page=1&perPage=10&returnType=JSON&serviceKey=%2FP5AhAmvjuBQBRALCoeppdhwG2TdfyZiiQNcc%2BZkkbdec3MKMsgRs3GZUa%2BPuCCtdEsTd7DtbbgmLjCTitOhSA%3D%3D",
     "output_type": "error",
     "traceback": [
      "\u001b[0;31m---------------------------------------------------------------------------\u001b[0m",
      "\u001b[0;31mHTTPError\u001b[0m                                 Traceback (most recent call last)",
      "Cell \u001b[0;32mIn[5], line 11\u001b[0m\n\u001b[1;32m      9\u001b[0m \u001b[38;5;28mprint\u001b[39m(\u001b[38;5;124m\"\u001b[39m\u001b[38;5;124mStatus:\u001b[39m\u001b[38;5;124m\"\u001b[39m, res\u001b[38;5;241m.\u001b[39mstatus_code)\n\u001b[1;32m     10\u001b[0m \u001b[38;5;28mprint\u001b[39m(\u001b[38;5;124m\"\u001b[39m\u001b[38;5;124mBody:\u001b[39m\u001b[38;5;124m\"\u001b[39m, res\u001b[38;5;241m.\u001b[39mtext[:\u001b[38;5;241m500\u001b[39m])\n\u001b[0;32m---> 11\u001b[0m res\u001b[38;5;241m.\u001b[39mraise_for_status()\n",
      "File \u001b[0;32m/opt/homebrew/anaconda3/lib/python3.12/site-packages/requests/models.py:1024\u001b[0m, in \u001b[0;36mResponse.raise_for_status\u001b[0;34m(self)\u001b[0m\n\u001b[1;32m   1019\u001b[0m     http_error_msg \u001b[38;5;241m=\u001b[39m (\n\u001b[1;32m   1020\u001b[0m         \u001b[38;5;124mf\u001b[39m\u001b[38;5;124m\"\u001b[39m\u001b[38;5;132;01m{\u001b[39;00m\u001b[38;5;28mself\u001b[39m\u001b[38;5;241m.\u001b[39mstatus_code\u001b[38;5;132;01m}\u001b[39;00m\u001b[38;5;124m Server Error: \u001b[39m\u001b[38;5;132;01m{\u001b[39;00mreason\u001b[38;5;132;01m}\u001b[39;00m\u001b[38;5;124m for url: \u001b[39m\u001b[38;5;132;01m{\u001b[39;00m\u001b[38;5;28mself\u001b[39m\u001b[38;5;241m.\u001b[39murl\u001b[38;5;132;01m}\u001b[39;00m\u001b[38;5;124m\"\u001b[39m\n\u001b[1;32m   1021\u001b[0m     )\n\u001b[1;32m   1023\u001b[0m \u001b[38;5;28;01mif\u001b[39;00m http_error_msg:\n\u001b[0;32m-> 1024\u001b[0m     \u001b[38;5;28;01mraise\u001b[39;00m HTTPError(http_error_msg, response\u001b[38;5;241m=\u001b[39m\u001b[38;5;28mself\u001b[39m)\n",
      "\u001b[0;31mHTTPError\u001b[0m: 400 Client Error: Bad Request for url: https://api.odcloud.kr/api/gov24/v1/serviceList?page=1&perPage=10&returnType=JSON&serviceKey=%2FP5AhAmvjuBQBRALCoeppdhwG2TdfyZiiQNcc%2BZkkbdec3MKMsgRs3GZUa%2BPuCCtdEsTd7DtbbgmLjCTitOhSA%3D%3D"
     ]
    }
   ],
   "source": [
    "ENC_KEY = \"%2FP5AhAmvjuBQBRALCoeppdhwG2TdfyZiiQNcc%2BZkkbdec3MKMsgRs3GZUa%2BPuCCtdEsTd7DtbbgmLjCTitOhSA%3D%3D\"\n",
    "url = (\n",
    "    \"https://api.odcloud.kr/api/gov24/v1/serviceList\"\n",
    "    f\"?page=1&perPage=10&returnType=JSON&serviceKey={ENC_KEY}\"\n",
    ")\n",
    "\n",
    "res = requests.get(url, timeout=20, headers={\"Accept\": \"application/json\"})\n",
    "print(\"URL:\", res.url)\n",
    "print(\"Status:\", res.status_code)\n",
    "print(\"Body:\", res.text[:500])\n",
    "res.raise_for_status()"
   ]
  },
  {
   "cell_type": "code",
   "execution_count": 6,
   "id": "1d6f5962",
   "metadata": {},
   "outputs": [
    {
     "name": "stdout",
     "output_type": "stream",
     "text": [
      "400 {\"code\":-3,\"msg\":\"등록되지 않은 서비스 입니다.\"}\n",
      "\n"
     ]
    }
   ],
   "source": [
    "url = f\"https://api.odcloud.kr/api/gov24/v1/serviceList?page=1&perPage=10&returnType=JSON&serviceKey={ENC_KEY}\"\n",
    "r = requests.get(url, headers={\"Accept\":\"application/json\"}, timeout=15)\n",
    "print(r.status_code, r.text[:500])"
   ]
  },
  {
   "cell_type": "code",
   "execution_count": 9,
   "id": "e8bbe2c8",
   "metadata": {},
   "outputs": [
    {
     "ename": "HTTPError",
     "evalue": "404 Client Error: Not Found for url: https://api.odcloud.kr/api/gov24/v1/serviceList/v3/serviceList?page=1&perPage=10&serviceKey=%09%252FP5AhAmvjuBQBRALCoeppdhwG2TdfyZiiQNcc%252BZkkbdec3MKMsgRs3GZUa%252BPuCCtdEsTd7DtbbgmLjCTitOhSA%253D%253D&returnType=JSON",
     "output_type": "error",
     "traceback": [
      "\u001b[0;31m---------------------------------------------------------------------------\u001b[0m",
      "\u001b[0;31mHTTPError\u001b[0m                                 Traceback (most recent call last)",
      "Cell \u001b[0;32mIn[9], line 28\u001b[0m\n\u001b[1;32m     25\u001b[0m     \u001b[38;5;28;01mreturn\u001b[39;00m r\u001b[38;5;241m.\u001b[39mjson()\n\u001b[1;32m     27\u001b[0m \u001b[38;5;66;03m# 1) 목록 10건만 확인\u001b[39;00m\n\u001b[0;32m---> 28\u001b[0m rows, total \u001b[38;5;241m=\u001b[39m service_list(page\u001b[38;5;241m=\u001b[39m\u001b[38;5;241m1\u001b[39m, per_page\u001b[38;5;241m=\u001b[39m\u001b[38;5;241m10\u001b[39m)\n\u001b[1;32m     29\u001b[0m \u001b[38;5;28mprint\u001b[39m(\u001b[38;5;124m\"\u001b[39m\u001b[38;5;124mtotal:\u001b[39m\u001b[38;5;124m\"\u001b[39m, total, \u001b[38;5;124m\"\u001b[39m\u001b[38;5;124mrows:\u001b[39m\u001b[38;5;124m\"\u001b[39m, \u001b[38;5;28mlen\u001b[39m(rows))\n\u001b[1;32m     30\u001b[0m \u001b[38;5;28mprint\u001b[39m(\u001b[38;5;124m\"\u001b[39m\u001b[38;5;124m첫 건 키:\u001b[39m\u001b[38;5;124m\"\u001b[39m, \u001b[38;5;28mlist\u001b[39m(rows[\u001b[38;5;241m0\u001b[39m]\u001b[38;5;241m.\u001b[39mkeys()))\n",
      "Cell \u001b[0;32mIn[9], line 6\u001b[0m, in \u001b[0;36mservice_list\u001b[0;34m(page, per_page, extra)\u001b[0m\n\u001b[1;32m      4\u001b[0m \u001b[38;5;28;01mif\u001b[39;00m extra: params\u001b[38;5;241m.\u001b[39mupdate(extra)          \u001b[38;5;66;03m# 예: {\"cond[svcNm::LIKE]\": \"청년\"}\u001b[39;00m\n\u001b[1;32m      5\u001b[0m r \u001b[38;5;241m=\u001b[39m requests\u001b[38;5;241m.\u001b[39mget(url, params\u001b[38;5;241m=\u001b[39mparams, timeout\u001b[38;5;241m=\u001b[39m\u001b[38;5;241m20\u001b[39m, headers\u001b[38;5;241m=\u001b[39m{\u001b[38;5;124m\"\u001b[39m\u001b[38;5;124mAccept\u001b[39m\u001b[38;5;124m\"\u001b[39m: \u001b[38;5;124m\"\u001b[39m\u001b[38;5;124mapplication/json\u001b[39m\u001b[38;5;124m\"\u001b[39m})\n\u001b[0;32m----> 6\u001b[0m r\u001b[38;5;241m.\u001b[39mraise_for_status()\n\u001b[1;32m      7\u001b[0m j \u001b[38;5;241m=\u001b[39m r\u001b[38;5;241m.\u001b[39mjson()\n\u001b[1;32m      8\u001b[0m rows \u001b[38;5;241m=\u001b[39m j\u001b[38;5;241m.\u001b[39mget(\u001b[38;5;124m\"\u001b[39m\u001b[38;5;124mdata\u001b[39m\u001b[38;5;124m\"\u001b[39m, j)\n",
      "File \u001b[0;32m/opt/homebrew/anaconda3/lib/python3.12/site-packages/requests/models.py:1024\u001b[0m, in \u001b[0;36mResponse.raise_for_status\u001b[0;34m(self)\u001b[0m\n\u001b[1;32m   1019\u001b[0m     http_error_msg \u001b[38;5;241m=\u001b[39m (\n\u001b[1;32m   1020\u001b[0m         \u001b[38;5;124mf\u001b[39m\u001b[38;5;124m\"\u001b[39m\u001b[38;5;132;01m{\u001b[39;00m\u001b[38;5;28mself\u001b[39m\u001b[38;5;241m.\u001b[39mstatus_code\u001b[38;5;132;01m}\u001b[39;00m\u001b[38;5;124m Server Error: \u001b[39m\u001b[38;5;132;01m{\u001b[39;00mreason\u001b[38;5;132;01m}\u001b[39;00m\u001b[38;5;124m for url: \u001b[39m\u001b[38;5;132;01m{\u001b[39;00m\u001b[38;5;28mself\u001b[39m\u001b[38;5;241m.\u001b[39murl\u001b[38;5;132;01m}\u001b[39;00m\u001b[38;5;124m\"\u001b[39m\n\u001b[1;32m   1021\u001b[0m     )\n\u001b[1;32m   1023\u001b[0m \u001b[38;5;28;01mif\u001b[39;00m http_error_msg:\n\u001b[0;32m-> 1024\u001b[0m     \u001b[38;5;28;01mraise\u001b[39;00m HTTPError(http_error_msg, response\u001b[38;5;241m=\u001b[39m\u001b[38;5;28mself\u001b[39m)\n",
      "\u001b[0;31mHTTPError\u001b[0m: 404 Client Error: Not Found for url: https://api.odcloud.kr/api/gov24/v1/serviceList/v3/serviceList?page=1&perPage=10&serviceKey=%09%252FP5AhAmvjuBQBRALCoeppdhwG2TdfyZiiQNcc%252BZkkbdec3MKMsgRs3GZUa%252BPuCCtdEsTd7DtbbgmLjCTitOhSA%253D%253D&returnType=JSON"
     ]
    }
   ],
   "source": [
    "\n",
    "def service_list(page=1, per_page=10, extra=None):\n",
    "    url = f\"{BASE}/v3/serviceList\"\n",
    "    params = {\"page\": page, \"perPage\": per_page, \"serviceKey\": DEC_KEY, \"returnType\": \"JSON\"}\n",
    "    if extra: params.update(extra)          # 예: {\"cond[svcNm::LIKE]\": \"청년\"}\n",
    "    r = requests.get(url, params=params, timeout=20, headers={\"Accept\": \"application/json\"})\n",
    "    r.raise_for_status()\n",
    "    j = r.json()\n",
    "    rows = j.get(\"data\", j)\n",
    "    return rows, j.get(\"totalCount\")\n",
    "\n",
    "def service_detail(svc_id):\n",
    "    url = f\"{BASE}/v3/serviceDetail\"        # v3 우선\n",
    "    r = requests.get(url, params={\"svcId\": svc_id, \"serviceKey\": DEC_KEY, \"returnType\": \"JSON\"}, timeout=20)\n",
    "    r.raise_for_status()\n",
    "    return r.json()\n",
    "\n",
    "def support_conditions(svc_id):\n",
    "    # 보조 API도 v3 기준. (혹시 404 등 뜨면 v1로 한 번 더 시도)\n",
    "    url = f\"{BASE}/v3/supportConditions\"\n",
    "    r = requests.get(url, params={\"svcId\": svc_id, \"serviceKey\": DEC_KEY, \"returnType\": \"JSON\"}, timeout=20)\n",
    "    if r.status_code != 200:\n",
    "        url = f\"{BASE}/v1/supportConditions\"\n",
    "        r = requests.get(url, params={\"svcId\": svc_id, \"serviceKey\": DEC_KEY, \"returnType\": \"JSON\"}, timeout=20)\n",
    "    r.raise_for_status()\n",
    "    return r.json()\n",
    "\n",
    "# 1) 목록 10건만 확인\n",
    "rows, total = service_list(page=1, per_page=10)\n",
    "print(\"total:\", total, \"rows:\", len(rows))\n",
    "print(\"첫 건 키:\", list(rows[0].keys()))\n",
    "print(\"샘플 svcId / svcNm:\", rows[0][\"svcId\"], rows[0][\"svcNm\"])\n",
    "\n",
    "# 2) 상세/지원조건 확인\n",
    "svc_id = rows[0][\"svcId\"]\n",
    "detail = service_detail(svc_id)\n",
    "conds  = support_conditions(svc_id)\n",
    "print(\"detail keys:\", list(detail.keys()))\n",
    "print(\"support keys:\", list(conds.keys()))\n",
    "\n",
    "# 3) 여러 페이지 덤프 → CSV\n",
    "def dump_csv(max_pages=3, per_page=100, path=\"gov24_serviceList.csv\"):\n",
    "    bucket = []\n",
    "    for p in range(1, max_pages+1):\n",
    "        page_rows, _ = service_list(page=p, per_page=per_page)\n",
    "        if not page_rows: break\n",
    "        bucket.extend(page_rows)\n",
    "    pd.DataFrame(bucket).to_csv(path, index=False, encoding=\"utf-8-sig\")\n",
    "    return path"
   ]
  },
  {
   "cell_type": "code",
   "execution_count": null,
   "id": "28cb63d0",
   "metadata": {},
   "outputs": [],
   "source": []
  }
 ],
 "metadata": {
  "kernelspec": {
   "display_name": "base",
   "language": "python",
   "name": "python3"
  },
  "language_info": {
   "codemirror_mode": {
    "name": "ipython",
    "version": 3
   },
   "file_extension": ".py",
   "mimetype": "text/x-python",
   "name": "python",
   "nbconvert_exporter": "python",
   "pygments_lexer": "ipython3",
   "version": "3.12.7"
  }
 },
 "nbformat": 4,
 "nbformat_minor": 5
}
