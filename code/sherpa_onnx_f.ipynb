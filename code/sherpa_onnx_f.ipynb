{
 "cells": [
  {
   "cell_type": "code",
   "execution_count": 1,
   "id": "e94af2a0",
   "metadata": {},
   "outputs": [
    {
     "name": "stdout",
     "output_type": "stream",
     "text": [
      "Python exe : /opt/homebrew/Caskroom/miniforge/base/envs/asr-korean/bin/python\n",
      "Python ver : 3.11.13\n",
      "Platform   : macOS-15.6.1-arm64-arm-64bit | Machine: arm64\n",
      "sherpa_onnx: 1.12.10\n",
      "ORT providers: ['CPUExecutionProvider']\n"
     ]
    }
   ],
   "source": [
    "import sys, platform\n",
    "import sherpa_onnx\n",
    "import onnxruntime as ort\n",
    "\n",
    "print(\"Python exe :\", sys.executable)\n",
    "print(\"Python ver :\", sys.version.split()[0])\n",
    "print(\"Platform   :\", platform.platform(), \"| Machine:\", platform.machine())\n",
    "print(\"sherpa_onnx:\", getattr(sherpa_onnx, \"__version__\", \"unknown\"))\n",
    "print(\"ORT providers:\", ort.get_available_providers())"
   ]
  },
  {
   "cell_type": "code",
   "execution_count": 2,
   "id": "f7fadaa3",
   "metadata": {},
   "outputs": [
    {
     "name": "stdout",
     "output_type": "stream",
     "text": [
      "tokens: /Users/leejeje/Desktop/DSL/25-1/Modeling/model/sherpa-onnx-streaming-zipformer-korean-2024-06-16/tokens.txt True\n",
      "encoder: /Users/leejeje/Desktop/DSL/25-1/Modeling/model/sherpa-onnx-streaming-zipformer-korean-2024-06-16/encoder-epoch-99-avg-1.int8.onnx\n",
      "decoder: /Users/leejeje/Desktop/DSL/25-1/Modeling/model/sherpa-onnx-streaming-zipformer-korean-2024-06-16/decoder-epoch-99-avg-1.int8.onnx\n",
      "joiner : /Users/leejeje/Desktop/DSL/25-1/Modeling/model/sherpa-onnx-streaming-zipformer-korean-2024-06-16/joiner-epoch-99-avg-1.int8.onnx\n"
     ]
    }
   ],
   "source": [
    "from pathlib import Path\n",
    "\n",
    "# 네가 실제로 사용 중인 모델 폴더\n",
    "extract_dir = Path(\"/Users/leejeje/Desktop/DSL/25-1/Modeling/model/sherpa-onnx-streaming-zipformer-korean-2024-06-16\")\n",
    "tokens = extract_dir / \"tokens.txt\"\n",
    "\n",
    "def pick(prefix: str):\n",
    "    # int8이 있으면 우선 사용, 없으면 fp32 사용\n",
    "    int8 = sorted(extract_dir.glob(f\"{prefix}-epoch-*.int8.onnx\"))\n",
    "    fp32 = sorted(p for p in extract_dir.glob(f\"{prefix}-epoch-*.onnx\") if \".int8.\" not in p.name)\n",
    "    return (int8[-1] if int8 else (fp32[-1] if fp32 else None))\n",
    "\n",
    "ENC  = pick(\"encoder\")\n",
    "DEC  = pick(\"decoder\")\n",
    "JOIN = pick(\"joiner\")\n",
    "\n",
    "print(\"tokens:\", tokens, tokens.exists())\n",
    "print(\"encoder:\", ENC)\n",
    "print(\"decoder:\", DEC)\n",
    "print(\"joiner :\", JOIN)\n",
    "\n",
    "assert extract_dir.exists(), f\"모델 폴더가 없습니다: {extract_dir}\"\n",
    "assert tokens.exists(), \"tokens.txt가 없습니다.\"\n",
    "assert ENC and DEC and JOIN, \"encoder/decoder/joiner onnx 파일을 찾지 못했습니다.\"\n"
   ]
  },
  {
   "cell_type": "code",
   "execution_count": 3,
   "id": "4dba82dd",
   "metadata": {},
   "outputs": [
    {
     "name": "stdout",
     "output_type": "stream",
     "text": [
      "✅ 모델 로드 완료\n",
      " - tokens : tokens.txt\n",
      " - encoder: encoder-epoch-99-avg-1.int8.onnx\n",
      " - decoder: decoder-epoch-99-avg-1.int8.onnx\n",
      " - joiner : joiner-epoch-99-avg-1.int8.onnx\n"
     ]
    }
   ],
   "source": [
    "import sherpa_onnx\n",
    "\n",
    "recognizer = sherpa_onnx.OnlineRecognizer.from_transducer(\n",
    "    tokens=str(tokens),\n",
    "    encoder=str(ENC),\n",
    "    decoder=str(DEC),\n",
    "    joiner=str(JOIN),\n",
    "    decoding_method=\"greedy_search\",\n",
    "    num_threads=2,\n",
    "    provider=\"cpu\",   # 가능하면 \"coreml\"도 시도해 볼 수 있음\n",
    ")\n",
    "\n",
    "print(\"✅ 모델 로드 완료\")\n",
    "print(\" - tokens :\", tokens.name)\n",
    "print(\" - encoder:\", Path(ENC).name)\n",
    "print(\" - decoder:\", Path(DEC).name)\n",
    "print(\" - joiner :\", Path(JOIN).name)\n"
   ]
  },
  {
   "cell_type": "code",
   "execution_count": null,
   "id": "99f49139",
   "metadata": {},
   "outputs": [],
   "source": []
  }
 ],
 "metadata": {
  "kernelspec": {
   "display_name": "asr-korean",
   "language": "python",
   "name": "python3"
  },
  "language_info": {
   "codemirror_mode": {
    "name": "ipython",
    "version": 3
   },
   "file_extension": ".py",
   "mimetype": "text/x-python",
   "name": "python",
   "nbconvert_exporter": "python",
   "pygments_lexer": "ipython3",
   "version": "3.11.13"
  }
 },
 "nbformat": 4,
 "nbformat_minor": 5
}
