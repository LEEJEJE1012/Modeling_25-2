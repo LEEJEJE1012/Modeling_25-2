{
 "cells": [
  {
   "cell_type": "code",
   "execution_count": 1,
   "id": "8cdb9534",
   "metadata": {},
   "outputs": [
    {
     "name": "stdout",
     "output_type": "stream",
     "text": [
      "Python: 3.11.13 | packaged by conda-forge | (main, Jun  4 2025, 14:52:34) [Clang 18.1.8 ]\n",
      "Platform: macOS-15.6.1-arm64-arm-64bit | Machine: arm64\n",
      "Conda Prefix: /opt/homebrew/Caskroom/miniforge/base/envs/asr-korean\n",
      "which python: /opt/homebrew/Caskroom/miniforge/base/envs/asr-korean/bin/python\n"
     ]
    }
   ],
   "source": [
    "import sys, platform, shutil, os\n",
    "from pathlib import Path\n",
    "import urllib.request, sys\n",
    "print(\"Python:\", sys.version)\n",
    "print(\"Platform:\", platform.platform(), \"| Machine:\", platform.machine())\n",
    "print(\"Conda Prefix:\", os.environ.get(\"CONDA_PREFIX\"))\n",
    "print(\"which python:\", shutil.which(\"python\"))"
   ]
  },
  {
   "cell_type": "code",
   "execution_count": 2,
   "id": "2b1d5376",
   "metadata": {},
   "outputs": [],
   "source": [
    "WORK_DIR = \"/Users/leejeje/Desktop/DSL/25-1/Modeling/model/sherpa-onnx-streaming-zipformer-korean-2024-06-16\""
   ]
  },
  {
   "cell_type": "code",
   "execution_count": 3,
   "id": "249a1730",
   "metadata": {},
   "outputs": [],
   "source": [
    "MODEL_URL = \"https://github.com/k2-fsa/sherpa-onnx/releases/download/asr-models/sherpa-onnx-streaming-zipformer-korean-2024-06-16.tar.bz2\"\n",
    "TAR_NAME = \"sherpa-onnx-streaming-zipformer-korean-2024-06-16.tar.bz2\"\n",
    "EXTRACTED_DIR_NAME = \"sherpa-onnx-streaming-zipformer-korean-2024-06-16\""
   ]
  },
  {
   "cell_type": "code",
   "execution_count": 4,
   "id": "d1408a29",
   "metadata": {},
   "outputs": [
    {
     "name": "stdout",
     "output_type": "stream",
     "text": [
      "WORK_DIR: /Users/leejeje/Desktop/DSL/25-1/Modeling/model/sherpa-onnx-streaming-zipformer-korean-2024-06-16\n",
      "MODEL_URL: https://github.com/k2-fsa/sherpa-onnx/releases/download/asr-models/sherpa-onnx-streaming-zipformer-korean-2024-06-16.tar.bz2\n"
     ]
    }
   ],
   "source": [
    "print(\"WORK_DIR:\", WORK_DIR)\n",
    "print(\"MODEL_URL:\", MODEL_URL)"
   ]
  },
  {
   "cell_type": "code",
   "execution_count": 8,
   "id": "fd7ca1b8",
   "metadata": {},
   "outputs": [
    {
     "name": "stdout",
     "output_type": "stream",
     "text": [
      "[skip] 이미 존재: sherpa-onnx-streaming-zipformer-korean-2024-06-16.tar.bz2 (418.22 MB)\n",
      "파일 확인: True | 크기: 418.22 MB\n"
     ]
    }
   ],
   "source": [
    "if isinstance(WORK_DIR, str):\n",
    "    WORK_DIR = Path(WORK_DIR)\n",
    "tar_path = WORK_DIR / TAR_NAME\n",
    "\n",
    "if tar_path.exists():\n",
    "    print(f\"[skip] 이미 존재: {tar_path.name} ({tar_path.stat().st_size/1e6:.2f} MB)\")\n",
    "else:\n",
    "    print(f\"다운로드 시작: {MODEL_URL}\")\n",
    "    def _progress(block_num, block_size, total_size):\n",
    "        downloaded = block_num * block_size\n",
    "        percent = min(100, downloaded * 100 / (total_size or 1))\n",
    "        sys.stdout.write(f\"\\r  {percent:6.2f}% ({downloaded/1e6:.1f} / {total_size/1e6 if total_size>0 else 0:.1f} MB)\")\n",
    "        sys.stdout.flush()\n",
    "    urllib.request.urlretrieve(MODEL_URL, filename=tar_path, reporthook=_progress)\n",
    "    print(\"\\n완료:\", tar_path)\n",
    "\n",
    "print(\"파일 확인:\", tar_path.exists(), \"| 크기:\", f\"{tar_path.stat().st_size/1e6:.2f} MB\" if tar_path.exists() else None)"
   ]
  },
  {
   "cell_type": "code",
   "execution_count": 9,
   "id": "3673a3e7",
   "metadata": {},
   "outputs": [],
   "source": [
    "import tarfile\n",
    "extract_dir = WORK_DIR / EXTRACTED_DIR_NAME\n",
    "\n",
    "# if extract_dir.exists() and any(extract_dir.iterdir()):\n",
    "#     print(f\"[skip] 이미 풀림: {extract_dir}\")\n",
    "# else:\n",
    "#     print(f\"압축 해제 → {extract_dir}\")\n",
    "#     with tarfile.open(tar_path, \"r:bz2\") as tar:\n",
    "#         tar.extractall(WORK_DIR)\n",
    "\n",
    "# print(\"내용물 예시:\")\n",
    "# for p in sorted(extract_dir.iterdir()):\n",
    "#     print(\" -\", p.name)"
   ]
  },
  {
   "cell_type": "code",
   "execution_count": 10,
   "id": "71fc0521",
   "metadata": {},
   "outputs": [
    {
     "name": "stdout",
     "output_type": "stream",
     "text": [
      "tokens       : /Users/leejeje/Desktop/DSL/25-1/Modeling/model/sherpa-onnx-streaming-zipformer-korean-2024-06-16/sherpa-onnx-streaming-zipformer-korean-2024-06-16/tokens.txt\n",
      "encoder_fp32 : /Users/leejeje/Desktop/DSL/25-1/Modeling/model/sherpa-onnx-streaming-zipformer-korean-2024-06-16/sherpa-onnx-streaming-zipformer-korean-2024-06-16/encoder-epoch-99-avg-1.int8.onnx\n",
      "decoder_fp32 : /Users/leejeje/Desktop/DSL/25-1/Modeling/model/sherpa-onnx-streaming-zipformer-korean-2024-06-16/sherpa-onnx-streaming-zipformer-korean-2024-06-16/decoder-epoch-99-avg-1.int8.onnx\n",
      "joiner_fp32  : /Users/leejeje/Desktop/DSL/25-1/Modeling/model/sherpa-onnx-streaming-zipformer-korean-2024-06-16/sherpa-onnx-streaming-zipformer-korean-2024-06-16/joiner-epoch-99-avg-1.int8.onnx\n",
      "encoder_int8 : None\n",
      "joiner_int8  : None\n"
     ]
    }
   ],
   "source": [
    "from pathlib import Path\n",
    "\n",
    "def pick_one(patterns):\n",
    "    for pat in patterns:\n",
    "        items = sorted(Path(extract_dir).glob(pat))\n",
    "        if items:\n",
    "            return str(items[0])\n",
    "    return None\n",
    "\n",
    "tokens       = pick_one([\"tokens.txt\", \"**/tokens.txt\"])\n",
    "encoder_fp32 = pick_one([\"encoder-epoch-*.onnx\"])\n",
    "decoder_fp32 = pick_one([\"decoder-epoch-*.onnx\"])\n",
    "joiner_fp32  = pick_one([\"joiner-epoch-*.onnx\"])\n",
    "\n",
    "# (선택) int8 변형\n",
    "encoder_int8 = pick_one([\"*encoder*-int8.onnx\", \"encoder-*-int8.onnx\"])\n",
    "joiner_int8  = pick_one([\"*joiner*-int8.onnx\",  \"joiner-*-int8.onnx\"])\n",
    "\n",
    "print(\"tokens       :\", tokens)\n",
    "print(\"encoder_fp32 :\", encoder_fp32)\n",
    "print(\"decoder_fp32 :\", decoder_fp32)\n",
    "print(\"joiner_fp32  :\", joiner_fp32)\n",
    "print(\"encoder_int8 :\", encoder_int8)\n",
    "print(\"joiner_int8  :\", joiner_int8)\n",
    "\n",
    "assert tokens and encoder_fp32 and decoder_fp32 and joiner_fp32, \"필수 onnx/tokens 파일을 찾지 못했습니다.\"\n"
   ]
  },
  {
   "cell_type": "code",
   "execution_count": 11,
   "id": "8a92bab5",
   "metadata": {},
   "outputs": [
    {
     "name": "stdout",
     "output_type": "stream",
     "text": [
      "실행 명령: sherpa-onnx --tokens /Users/leejeje/Desktop/DSL/25-1/Modeling/model/sherpa-onnx-streaming-zipformer-korean-2024-06-16/sherpa-onnx-streaming-zipformer-korean-2024-06-16/tokens.txt --encoder /Users/leejeje/Desktop/DSL/25-1/Modeling/model/sherpa-onnx-streaming-zipformer-korean-2024-06-16/sherpa-onnx-streaming-zipformer-korean-2024-06-16/encoder-epoch-99-avg-1.int8.onnx --decoder /Users/leejeje/Desktop/DSL/25-1/Modeling/model/sherpa-onnx-streaming-zipformer-korean-2024-06-16/sherpa-onnx-streaming-zipformer-korean-2024-06-16/decoder-epoch-99-avg-1.int8.onnx --joiner /Users/leejeje/Desktop/DSL/25-1/Modeling/model/sherpa-onnx-streaming-zipformer-korean-2024-06-16/sherpa-onnx-streaming-zipformer-korean-2024-06-16/joiner-epoch-99-avg-1.int8.onnx /Users/leejeje/Desktop/DSL/25-1/Modeling/model/sherpa-onnx-streaming-zipformer-korean-2024-06-16/sherpa-onnx-streaming-zipformer-korean-2024-06-16/test_wavs/0.wav\n",
      "[문제] sherpa-onnx CLI를 찾을 수 없습니다. 같은 커널/환경에 설치되어 있는지 확인하세요.\n"
     ]
    }
   ],
   "source": [
    "import subprocess, shlex\n",
    "from pathlib import Path\n",
    "\n",
    "test_wav = Path(extract_dir) / \"test_wavs\" / \"0.wav\"\n",
    "assert test_wav.exists(), f\"샘플 wav를 찾지 못했습니다: {test_wav}\"\n",
    "\n",
    "cmd = [\n",
    "    \"sherpa-onnx\",\n",
    "    \"--tokens\", tokens,\n",
    "    \"--encoder\", encoder_fp32,\n",
    "    \"--decoder\", decoder_fp32,\n",
    "    \"--joiner\",  joiner_fp32,\n",
    "    str(test_wav),\n",
    "]\n",
    "print(\"실행 명령:\", \" \".join(shlex.quote(x) for x in cmd))\n",
    "\n",
    "try:\n",
    "    out = subprocess.check_output(cmd, stderr=subprocess.STDOUT, text=True)\n",
    "    print(out)\n",
    "except FileNotFoundError:\n",
    "    print(\"[문제] sherpa-onnx CLI를 찾을 수 없습니다. 같은 커널/환경에 설치되어 있는지 확인하세요.\")\n",
    "except subprocess.CalledProcessError as e:\n",
    "    print(\"실행 실패! returncode=\", e.returncode)\n",
    "    print(\"출력:\\n\", e.output)"
   ]
  },
  {
   "cell_type": "code",
   "execution_count": 25,
   "id": "b526e95b",
   "metadata": {},
   "outputs": [
    {
     "name": "stdout",
     "output_type": "stream",
     "text": [
      "Python exe: /opt/homebrew/Caskroom/miniforge/base/envs/asr-korean/bin/python\n",
      "sherpa_onnx module: /opt/homebrew/Caskroom/miniforge/base/envs/asr-korean/lib/python3.11/site-packages/sherpa_onnx/__init__.py\n"
     ]
    }
   ],
   "source": [
    "import sys, shutil\n",
    "import importlib\n",
    "\n",
    "print(\"Python exe:\", sys.executable)\n",
    "try:\n",
    "    m = importlib.import_module(\"sherpa_onnx\")\n",
    "    print(\"sherpa_onnx module:\", m.__file__)\n",
    "except Exception as e:\n",
    "    print(\"[문제] sherpa_onnx가 현재 커널에 설치되지 않았습니다.\", e)"
   ]
  },
  {
   "cell_type": "code",
   "execution_count": 26,
   "id": "37ba67d1",
   "metadata": {},
   "outputs": [
    {
     "name": "stdout",
     "output_type": "stream",
     "text": [
      "scripts_dir: /opt/homebrew/Caskroom/miniforge/base/envs/asr-korean/bin\n",
      "which sherpa-onnx -> None\n"
     ]
    }
   ],
   "source": [
    "import os, sysconfig, shutil\n",
    "from pathlib import Path\n",
    "\n",
    "scripts_dir = Path(sysconfig.get_path(\"scripts\"))  # 이 커널이 사용하는 Scripts/bin 디렉터리\n",
    "os.environ[\"PATH\"] = str(scripts_dir) + os.pathsep + os.environ.get(\"PATH\", \"\")\n",
    "print(\"scripts_dir:\", scripts_dir)\n",
    "print(\"which sherpa-onnx ->\", shutil.which(\"sherpa-onnx\"))\n",
    "\n",
    "# (보강) conda 환경의 bin 도 함께 확인\n",
    "conda_prefix = os.environ.get(\"CONDA_PREFIX\")\n",
    "if not shutil.which(\"sherpa-onnx\") and conda_prefix:\n",
    "    cand = Path(conda_prefix) / \"bin\" / \"sherpa-onnx\"\n",
    "    if cand.exists():\n",
    "        os.environ[\"PATH\"] = str(cand.parent) + os.pathsep + os.environ[\"PATH\"]\n",
    "        print(\"added:\", cand.parent)\n",
    "        print(\"which sherpa-onnx ->\", shutil.which(\"sherpa-onnx\"))"
   ]
  },
  {
   "cell_type": "code",
   "execution_count": 12,
   "id": "bfd6c73a",
   "metadata": {},
   "outputs": [
    {
     "name": "stdout",
     "output_type": "stream",
     "text": [
      "Python exe: /opt/homebrew/Caskroom/miniforge/base/envs/asr-korean/bin/python\n",
      "pip 25.2 from /opt/homebrew/Caskroom/miniforge/base/envs/asr-korean/lib/python3.11/site-packages/pip (python 3.11)\n",
      "\n",
      "sherpa_onnx module: /opt/homebrew/Caskroom/miniforge/base/envs/asr-korean/lib/python3.11/site-packages/sherpa_onnx/__init__.py\n"
     ]
    }
   ],
   "source": [
    "import sys, subprocess, importlib\n",
    "\n",
    "print(\"Python exe:\", sys.executable)\n",
    "print(subprocess.check_output([sys.executable, \"-m\", \"pip\", \"--version\"], text=True))\n",
    "try:\n",
    "    import sherpa_onnx\n",
    "    print(\"sherpa_onnx module:\", sherpa_onnx.__file__)\n",
    "except Exception as e:\n",
    "    print(\"[문제] 현재 커널에 sherpa_onnx가 없습니다:\", e)\n",
    "    print(\"→ 아래 명령으로 현재 커널에 재설치하세요:\")\n",
    "    print(f\"{sys.executable} -m pip install --upgrade pip wheel\")\n",
    "    print(f\"{sys.executable} -m pip install --force-reinstall --no-cache-dir sherpa-onnx\")"
   ]
  },
  {
   "cell_type": "code",
   "execution_count": 13,
   "id": "2b028628",
   "metadata": {},
   "outputs": [
    {
     "name": "stdout",
     "output_type": "stream",
     "text": [
      "CLI command prefix: /opt/homebrew/Caskroom/miniforge/base/envs/asr-korean/bin/python -m sherpa_onnx\n",
      "scripts_dir: /opt/homebrew/Caskroom/miniforge/base/envs/asr-korean/bin\n"
     ]
    }
   ],
   "source": [
    "import sys, shutil, sysconfig\n",
    "from pathlib import Path\n",
    "\n",
    "CLI = None\n",
    "cli_path = shutil.which(\"sherpa-onnx\")\n",
    "if cli_path:\n",
    "    CLI = [cli_path]\n",
    "else:\n",
    "    # fallback: 모듈 실행 (콘솔 스크립트 없이도 100% 동작)\n",
    "    CLI = [sys.executable, \"-m\", \"sherpa_onnx\"]\n",
    "\n",
    "print(\"CLI command prefix:\", \" \".join(CLI))\n",
    "print(\"scripts_dir:\", sysconfig.get_path(\"scripts\"))"
   ]
  },
  {
   "cell_type": "code",
   "execution_count": 16,
   "id": "ba93b9e6",
   "metadata": {},
   "outputs": [
    {
     "name": "stdout",
     "output_type": "stream",
     "text": [
      "Python: /opt/homebrew/Caskroom/miniforge/base/envs/asr-korean/bin/python\n",
      "sherpa_onnx: 1.12.10\n"
     ]
    }
   ],
   "source": [
    "import sys, importlib\n",
    "print(\"Python:\", sys.executable)\n",
    "try:\n",
    "    import sherpa_onnx\n",
    "    print(\"sherpa_onnx:\", getattr(sherpa_onnx, \"__version__\", \"unknown\"))\n",
    "except Exception as e:\n",
    "    print(\"sherpa_onnx import 실패:\", e)\n",
    "    raise SystemExit(\"현재 커널(asr-korean)에 설치되어 있는지 확인하세요: %pip install --upgrade pip wheel && %pip install sherpa-onnx\")\n"
   ]
  },
  {
   "cell_type": "code",
   "execution_count": 17,
   "id": "0c37dda8",
   "metadata": {},
   "outputs": [
    {
     "name": "stdout",
     "output_type": "stream",
     "text": [
      "tokens     : tokens.txt True\n",
      "encoder fp32/int8: encoder-epoch-99-avg-1.onnx | encoder-epoch-99-avg-1.int8.onnx\n",
      "decoder fp32/int8: decoder-epoch-99-avg-1.onnx | decoder-epoch-99-avg-1.int8.onnx\n",
      "joiner  fp32/int8: joiner-epoch-99-avg-1.onnx | joiner-epoch-99-avg-1.int8.onnx\n",
      "test_wav   : 0.wav True\n",
      "사용 조합: encoder-epoch-99-avg-1.onnx | decoder-epoch-99-avg-1.onnx | joiner-epoch-99-avg-1.onnx\n"
     ]
    }
   ],
   "source": [
    "from pathlib import Path\n",
    "\n",
    "# 너의 경로 그대로 사용\n",
    "extract_dir = Path(\"/Users/leejeje/Desktop/DSL/25-1/Modeling/model/sherpa-onnx-streaming-zipformer-korean-2024-06-16\")\n",
    "assert extract_dir.exists(), f\"extract_dir 없음: {extract_dir}\"\n",
    "\n",
    "def pick_latest(glob_pat):\n",
    "    files = sorted(extract_dir.glob(glob_pat))\n",
    "    return files[-1] if files else None\n",
    "\n",
    "# 파일을 fp32 / int8로 분리 ('.int8.' 포함 여부로 판단)\n",
    "def split_fp32_int8(prefix):\n",
    "    all_files = sorted(extract_dir.glob(f\"{prefix}-epoch-*.onnx\"))\n",
    "    fp32 = [p for p in all_files if \".int8.\" not in p.name]\n",
    "    int8 = [p for p in all_files if \".int8.\" in p.name]\n",
    "    return (fp32[-1] if fp32 else None, int8[-1] if int8 else None)\n",
    "\n",
    "encoder_fp32, encoder_int8 = split_fp32_int8(\"encoder\")\n",
    "decoder_fp32, decoder_int8 = split_fp32_int8(\"decoder\")\n",
    "joiner_fp32,  joiner_int8  = split_fp32_int8(\"joiner\")\n",
    "\n",
    "tokens = extract_dir / \"tokens.txt\"\n",
    "test_wav = extract_dir / \"test_wavs\" / \"0.wav\"\n",
    "\n",
    "print(\"tokens     :\", tokens.name, tokens.exists())\n",
    "print(\"encoder fp32/int8:\", getattr(encoder_fp32, \"name\", None), \"|\", getattr(encoder_int8, \"name\", None))\n",
    "print(\"decoder fp32/int8:\", getattr(decoder_fp32, \"name\", None), \"|\", getattr(decoder_int8, \"name\", None))\n",
    "print(\"joiner  fp32/int8:\", getattr(joiner_fp32,  \"name\", None), \"|\", getattr(joiner_int8,  \"name\", None))\n",
    "print(\"test_wav   :\", test_wav.name, test_wav.exists())\n",
    "\n",
    "assert tokens.exists(), \"tokens.txt가 없습니다.\"\n",
    "assert test_wav.exists(), \"샘플 wav가 없습니다.\"\n",
    "\n",
    "# 안전한 기본 조합: fp32가 있으면 fp32 사용, 없으면 int8 사용\n",
    "ENC = (encoder_fp32 or encoder_int8)\n",
    "DEC = (decoder_fp32 or decoder_int8)\n",
    "JOIN = (joiner_fp32  or joiner_int8)\n",
    "assert ENC and DEC and JOIN, \"encoder/decoder/joiner onnx 파일이 부족합니다.\"\n",
    "print(\"사용 조합:\", ENC.name, \"|\", DEC.name, \"|\", JOIN.name)\n"
   ]
  },
  {
   "cell_type": "code",
   "execution_count": 19,
   "id": "3172764b",
   "metadata": {},
   "outputs": [
    {
     "name": "stdout",
     "output_type": "stream",
     "text": [
      "Python: /opt/homebrew/Caskroom/miniforge/base/envs/asr-korean/bin/python\n",
      "sherpa_onnx version: 1.12.10\n",
      "has OnlineRecognizer.from_transducer: True\n",
      "has OnlineRecognizerConfig: False\n"
     ]
    }
   ],
   "source": [
    "import sherpa_onnx, sys, importlib\n",
    "print(\"Python:\", sys.executable)\n",
    "print(\"sherpa_onnx version:\", getattr(sherpa_onnx, \"__version__\", \"unknown\"))\n",
    "print(\"has OnlineRecognizer.from_transducer:\", hasattr(sherpa_onnx.OnlineRecognizer, \"from_transducer\"))\n",
    "print(\"has OnlineRecognizerConfig:\", hasattr(sherpa_onnx, \"OnlineRecognizerConfig\"))\n"
   ]
  },
  {
   "cell_type": "code",
   "execution_count": 25,
   "id": "6be5010f",
   "metadata": {},
   "outputs": [
    {
     "name": "stdout",
     "output_type": "stream",
     "text": [
      "tokens: /Users/leejeje/Desktop/DSL/25-1/Modeling/model/sherpa-onnx-streaming-zipformer-korean-2024-06-16/tokens.txt True\n",
      "ENC/DEC/JOIN: encoder-epoch-99-avg-1.int8.onnx decoder-epoch-99-avg-1.int8.onnx joiner-epoch-99-avg-1.int8.onnx\n",
      "test_wav: /Users/leejeje/Desktop/DSL/25-1/Modeling/model/sherpa-onnx-streaming-zipformer-korean-2024-06-16/test_wavs/0.wav True\n",
      "인식 결과: 걔는 괜찮은 척하려구 애 쓰는 거 같\n"
     ]
    }
   ],
   "source": [
    "from pathlib import Path\n",
    "import soundfile as sf\n",
    "import numpy as np\n",
    "import sherpa_onnx\n",
    "\n",
    "# 1) 네가 쓰고 있는 모델 디렉터리 그대로\n",
    "extract_dir = Path(\"/Users/leejeje/Desktop/DSL/25-1/Modeling/model/sherpa-onnx-streaming-zipformer-korean-2024-06-16\")\n",
    "tokens    = extract_dir / \"tokens.txt\"\n",
    "test_wav  = extract_dir / \"test_wavs\" / \"0.wav\"\n",
    "\n",
    "# 2) 파일 자동 선택 (int8 우선, 없으면 fp32)\n",
    "def pick(prefix: str):\n",
    "    int8 = sorted(extract_dir.glob(f\"{prefix}-epoch-*.int8.onnx\"))\n",
    "    fp32 = sorted(p for p in extract_dir.glob(f\"{prefix}-epoch-*.onnx\") if \".int8.\" not in p.name)\n",
    "    return (int8[-1] if int8 else (fp32[-1] if fp32 else None))\n",
    "\n",
    "ENC = pick(\"encoder\")\n",
    "DEC = pick(\"decoder\")\n",
    "JOIN = pick(\"joiner\")\n",
    "\n",
    "print(\"tokens:\", tokens, tokens.exists())\n",
    "print(\"ENC/DEC/JOIN:\", ENC.name if ENC else None, DEC.name if DEC else None, JOIN.name if JOIN else None)\n",
    "print(\"test_wav:\", test_wav, test_wav.exists())\n",
    "\n",
    "assert tokens.exists(), \"tokens.txt가 없습니다.\"\n",
    "assert ENC and DEC and JOIN, \"encoder/decoder/joiner onnx를 찾지 못했습니다.\"\n",
    "assert test_wav.exists(), \"샘플 wav가 없습니다.\"\n",
    "\n",
    "# 3) WAV 로드 (모노 float32 권장)\n",
    "wave, sr = sf.read(str(test_wav), dtype=\"float32\", always_2d=False)\n",
    "if wave.ndim == 2:\n",
    "    wave = wave.mean(axis=1)\n",
    "if sr != 16000:\n",
    "    print(f\"[경고] 샘플레이트 {sr}Hz 입니다. 16kHz 권장입니다.\")\n",
    "\n",
    "# 4) OnlineRecognizer 생성 — from_transducer (너 버전에 존재)\n",
    "recognizer = sherpa_onnx.OnlineRecognizer.from_transducer(\n",
    "    tokens=str(tokens),\n",
    "    encoder=str(ENC),\n",
    "    decoder=str(DEC),\n",
    "    joiner=str(JOIN),\n",
    "    decoding_method=\"greedy_search\",  # 기본값\n",
    "    num_threads=2,                    # 필요 시 조정\n",
    "    provider=\"cpu\",                   # 성능 튜닝시 \"coreml\" 시도 가능 (아래 팁 참고)\n",
    ")\n",
    "\n",
    "# 5) 스트림 생성/디코딩\n",
    "stream = recognizer.create_stream()\n",
    "stream.accept_waveform(16000, wave if sr == 16000 else wave.astype(\"float32\"))\n",
    "stream.input_finished()\n",
    "\n",
    "while recognizer.is_ready(stream):\n",
    "    recognizer.decode_stream(stream)\n",
    "\n",
    "res = recognizer.get_result(stream)\n",
    "\n",
    "# sherpa-onnx 버전에 따라 반환 타입이 다를 수 있어 안전하게 처리\n",
    "if hasattr(res, \"text\"):          # 예전 일부 버전: 객체에 .text 속성\n",
    "    text = res.text\n",
    "elif isinstance(res, bytes):       # 혹시 bytes면 디코드\n",
    "    text = res.decode(\"utf-8\", \"ignore\")\n",
    "else:                              # 현재(1.12.10): str 직접 반환\n",
    "    text = str(res)\n",
    "\n",
    "print(\"인식 결과:\", text)\n"
   ]
  },
  {
   "cell_type": "code",
   "execution_count": null,
   "id": "27026f69",
   "metadata": {},
   "outputs": [],
   "source": []
  }
 ],
 "metadata": {
  "kernelspec": {
   "display_name": "asr-korean",
   "language": "python",
   "name": "python3"
  },
  "language_info": {
   "codemirror_mode": {
    "name": "ipython",
    "version": 3
   },
   "file_extension": ".py",
   "mimetype": "text/x-python",
   "name": "python",
   "nbconvert_exporter": "python",
   "pygments_lexer": "ipython3",
   "version": "3.11.13"
  }
 },
 "nbformat": 4,
 "nbformat_minor": 5
}
